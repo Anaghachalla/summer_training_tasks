{
 "cells": [
  {
   "cell_type": "code",
   "execution_count": 5,
   "id": "7d1686a2",
   "metadata": {},
   "outputs": [],
   "source": [
    "import cv2,socket,pickle,struct"
   ]
  },
  {
   "cell_type": "code",
   "execution_count": 6,
   "id": "c57db314",
   "metadata": {},
   "outputs": [
    {
     "name": "stdout",
     "output_type": "stream",
     "text": [
      "connection interrupted\n"
     ]
    }
   ],
   "source": [
    "#creating a socket\n",
    "s = socket.socket()\n",
    "#socket bind\n",
    "socket_addr = (\"192.168.0.106\",9999)\n",
    "s.bind(socket_addr)\n",
    "#socket listen- 5 is backlog\n",
    "s.listen(5)\n",
    "while True:\n",
    "    #socket accept\n",
    "    c,addr = s.accept()\n",
    "\n",
    "    if c:\n",
    "        video = cv2.VideoCapture(0)\n",
    "        try:\n",
    "            while(video.isOpened()):\n",
    "                image , frame = video.read()\n",
    "                a = pickle.dumps(frame)\n",
    "                msg = struct.pack(\"Q\",len(a))+a\n",
    "                #handle client\n",
    "                c.sendall(msg)\n",
    "                cv2.imshow(\"server side- transmitting\",frame)\n",
    "                if cv2.waitKey(20)==13:\n",
    "                    break\n",
    "        except:\n",
    "            print('connection interrupted')\n",
    "            break\n",
    "    break\n",
    "cv2.destroyAllWindows()\n",
    "#close client\n",
    "c.close()    \n",
    "video.release()"
   ]
  },
  {
   "cell_type": "code",
   "execution_count": null,
   "id": "e0913e88",
   "metadata": {},
   "outputs": [],
   "source": []
  },
  {
   "cell_type": "code",
   "execution_count": null,
   "id": "011a4afb",
   "metadata": {},
   "outputs": [],
   "source": []
  },
  {
   "cell_type": "code",
   "execution_count": null,
   "id": "1606cc74",
   "metadata": {},
   "outputs": [],
   "source": []
  }
 ],
 "metadata": {
  "kernelspec": {
   "display_name": "Python 3",
   "language": "python",
   "name": "python3"
  },
  "language_info": {
   "codemirror_mode": {
    "name": "ipython",
    "version": 3
   },
   "file_extension": ".py",
   "mimetype": "text/x-python",
   "name": "python",
   "nbconvert_exporter": "python",
   "pygments_lexer": "ipython3",
   "version": "3.8.8"
  }
 },
 "nbformat": 4,
 "nbformat_minor": 5
}
