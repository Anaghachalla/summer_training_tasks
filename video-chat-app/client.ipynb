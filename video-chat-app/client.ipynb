{
 "cells": [
  {
   "cell_type": "code",
   "execution_count": 9,
   "id": "1814673a",
   "metadata": {},
   "outputs": [],
   "source": [
    "import cv2,socket,pickle,struct"
   ]
  },
  {
   "cell_type": "code",
   "execution_count": 10,
   "id": "fe409d80",
   "metadata": {},
   "outputs": [],
   "source": [
    "#socket creation\n",
    "c = socket.socket()\n",
    "#socket connection\n",
    "c.connect((\"192.168.0.106\",9999))"
   ]
  },
  {
   "cell_type": "code",
   "execution_count": 11,
   "id": "b4d56472",
   "metadata": {},
   "outputs": [],
   "source": [
    "data = b\"\"\n",
    "payload_size = struct.calcsize(\"Q\")"
   ]
  },
  {
   "cell_type": "code",
   "execution_count": 12,
   "id": "25ded798",
   "metadata": {},
   "outputs": [],
   "source": [
    "while True:\n",
    "    while len(data) < payload_size:\n",
    "        packet = c.recv(4*1024)\n",
    "        if not packet : break\n",
    "        data+= packet\n",
    "    packed_msg_size = data[:payload_size]\n",
    "    data = data[payload_size:]\n",
    "    msg_size = struct.unpack(\"Q\",packed_msg_size)[0]\n",
    "    try:\n",
    "        while len(data)<msg_size:\n",
    "            #socket recieve\n",
    "            data+=c.recv(4*1024)\n",
    "        frame_data = data[:msg_size]\n",
    "        data = data[msg_size:]\n",
    "        frame = pickle.loads(frame_data)\n",
    "        cv2.imshow(\"client side-receiving\",frame)\n",
    "        if cv2.waitKey(1)==13:\n",
    "            break\n",
    "    except:\n",
    "        print('connection interrupted')\n",
    "        break\n",
    "cv2.destroyAllWindows()\n",
    "#close socket\n",
    "c.close()"
   ]
  },
  {
   "cell_type": "code",
   "execution_count": null,
   "id": "31d4d63f",
   "metadata": {},
   "outputs": [],
   "source": []
  }
 ],
 "metadata": {
  "kernelspec": {
   "display_name": "Python 3",
   "language": "python",
   "name": "python3"
  },
  "language_info": {
   "codemirror_mode": {
    "name": "ipython",
    "version": 3
   },
   "file_extension": ".py",
   "mimetype": "text/x-python",
   "name": "python",
   "nbconvert_exporter": "python",
   "pygments_lexer": "ipython3",
   "version": "3.8.8"
  }
 },
 "nbformat": 4,
 "nbformat_minor": 5
}
